{
 "cells": [
  {
   "cell_type": "markdown",
   "metadata": {},
   "source": [
    "Постройте диаграмму (или график), которая показывает, как по возрастным сегментам отличается конверсия в утилизацию."
   ]
  },
  {
   "cell_type": "code",
   "execution_count": 2,
   "metadata": {},
   "outputs": [],
   "source": [
    "from datetime import datetime as dt\n",
    "from datetime import date\n",
    "from datetime import timedelta as timedelta\n",
    "from dateutil.relativedelta import relativedelta\n",
    "\n",
    "import pandas as pd\n",
    "import numpy as np\n",
    "\n",
    "import math\n",
    "\n",
    "import matplotlib\n",
    "\n",
    "import matplotlib.pyplot as plt\n",
    "%matplotlib inline  "
   ]
  },
  {
   "cell_type": "code",
   "execution_count": 3,
   "metadata": {},
   "outputs": [],
   "source": [
    "df = pd.read_excel('tinkoff_vis.xls')"
   ]
  },
  {
   "cell_type": "code",
   "execution_count": 4,
   "metadata": {},
   "outputs": [
    {
     "data": {
      "text/html": [
       "<div>\n",
       "<style scoped>\n",
       "    .dataframe tbody tr th:only-of-type {\n",
       "        vertical-align: middle;\n",
       "    }\n",
       "\n",
       "    .dataframe tbody tr th {\n",
       "        vertical-align: top;\n",
       "    }\n",
       "\n",
       "    .dataframe thead th {\n",
       "        text-align: right;\n",
       "    }\n",
       "</style>\n",
       "<table border=\"1\" class=\"dataframe\">\n",
       "  <thead>\n",
       "    <tr style=\"text-align: right;\">\n",
       "      <th></th>\n",
       "      <th>client_id</th>\n",
       "      <th>birth_dt</th>\n",
       "      <th>reg_dttm</th>\n",
       "      <th>purchase_id</th>\n",
       "      <th>purchase_dt</th>\n",
       "      <th>purchase_amt</th>\n",
       "    </tr>\n",
       "  </thead>\n",
       "  <tbody>\n",
       "    <tr>\n",
       "      <th>0</th>\n",
       "      <td>820519</td>\n",
       "      <td>1990-05-10</td>\n",
       "      <td>2019-01-02 12:49:39</td>\n",
       "      <td>NaN</td>\n",
       "      <td>NaT</td>\n",
       "      <td>NaN</td>\n",
       "    </tr>\n",
       "    <tr>\n",
       "      <th>1</th>\n",
       "      <td>820521</td>\n",
       "      <td>1970-03-23</td>\n",
       "      <td>2019-01-02 14:14:39</td>\n",
       "      <td>NaN</td>\n",
       "      <td>NaT</td>\n",
       "      <td>NaN</td>\n",
       "    </tr>\n",
       "    <tr>\n",
       "      <th>2</th>\n",
       "      <td>820523</td>\n",
       "      <td>1991-04-01</td>\n",
       "      <td>2019-01-02 19:51:19</td>\n",
       "      <td>1.204926e+09</td>\n",
       "      <td>2019-02-12</td>\n",
       "      <td>500.0</td>\n",
       "    </tr>\n",
       "    <tr>\n",
       "      <th>3</th>\n",
       "      <td>820526</td>\n",
       "      <td>1985-04-27</td>\n",
       "      <td>2019-01-02 18:09:39</td>\n",
       "      <td>NaN</td>\n",
       "      <td>NaT</td>\n",
       "      <td>NaN</td>\n",
       "    </tr>\n",
       "    <tr>\n",
       "      <th>4</th>\n",
       "      <td>820544</td>\n",
       "      <td>1991-05-03</td>\n",
       "      <td>2019-01-03 12:24:42</td>\n",
       "      <td>NaN</td>\n",
       "      <td>NaT</td>\n",
       "      <td>NaN</td>\n",
       "    </tr>\n",
       "    <tr>\n",
       "      <th>...</th>\n",
       "      <td>...</td>\n",
       "      <td>...</td>\n",
       "      <td>...</td>\n",
       "      <td>...</td>\n",
       "      <td>...</td>\n",
       "      <td>...</td>\n",
       "    </tr>\n",
       "    <tr>\n",
       "      <th>2372</th>\n",
       "      <td>835630</td>\n",
       "      <td>1991-01-05</td>\n",
       "      <td>2019-04-05 11:00:17</td>\n",
       "      <td>NaN</td>\n",
       "      <td>NaT</td>\n",
       "      <td>NaN</td>\n",
       "    </tr>\n",
       "    <tr>\n",
       "      <th>2373</th>\n",
       "      <td>835634</td>\n",
       "      <td>1991-09-06</td>\n",
       "      <td>2019-04-05 12:19:05</td>\n",
       "      <td>1.299279e+09</td>\n",
       "      <td>2019-04-07</td>\n",
       "      <td>4000.0</td>\n",
       "    </tr>\n",
       "    <tr>\n",
       "      <th>2374</th>\n",
       "      <td>835650</td>\n",
       "      <td>1993-09-02</td>\n",
       "      <td>2019-04-05 12:26:39</td>\n",
       "      <td>1.299387e+09</td>\n",
       "      <td>2019-04-08</td>\n",
       "      <td>1500.0</td>\n",
       "    </tr>\n",
       "    <tr>\n",
       "      <th>2375</th>\n",
       "      <td>835666</td>\n",
       "      <td>1998-05-15</td>\n",
       "      <td>2019-04-05 13:16:37</td>\n",
       "      <td>NaN</td>\n",
       "      <td>NaT</td>\n",
       "      <td>NaN</td>\n",
       "    </tr>\n",
       "    <tr>\n",
       "      <th>2376</th>\n",
       "      <td>835717</td>\n",
       "      <td>1986-08-14</td>\n",
       "      <td>2019-04-05 13:13:41</td>\n",
       "      <td>NaN</td>\n",
       "      <td>NaT</td>\n",
       "      <td>NaN</td>\n",
       "    </tr>\n",
       "  </tbody>\n",
       "</table>\n",
       "<p>2377 rows × 6 columns</p>\n",
       "</div>"
      ],
      "text/plain": [
       "      client_id   birth_dt            reg_dttm   purchase_id purchase_dt  \\\n",
       "0        820519 1990-05-10 2019-01-02 12:49:39           NaN         NaT   \n",
       "1        820521 1970-03-23 2019-01-02 14:14:39           NaN         NaT   \n",
       "2        820523 1991-04-01 2019-01-02 19:51:19  1.204926e+09  2019-02-12   \n",
       "3        820526 1985-04-27 2019-01-02 18:09:39           NaN         NaT   \n",
       "4        820544 1991-05-03 2019-01-03 12:24:42           NaN         NaT   \n",
       "...         ...        ...                 ...           ...         ...   \n",
       "2372     835630 1991-01-05 2019-04-05 11:00:17           NaN         NaT   \n",
       "2373     835634 1991-09-06 2019-04-05 12:19:05  1.299279e+09  2019-04-07   \n",
       "2374     835650 1993-09-02 2019-04-05 12:26:39  1.299387e+09  2019-04-08   \n",
       "2375     835666 1998-05-15 2019-04-05 13:16:37           NaN         NaT   \n",
       "2376     835717 1986-08-14 2019-04-05 13:13:41           NaN         NaT   \n",
       "\n",
       "      purchase_amt  \n",
       "0              NaN  \n",
       "1              NaN  \n",
       "2            500.0  \n",
       "3              NaN  \n",
       "4              NaN  \n",
       "...            ...  \n",
       "2372           NaN  \n",
       "2373        4000.0  \n",
       "2374        1500.0  \n",
       "2375           NaN  \n",
       "2376           NaN  \n",
       "\n",
       "[2377 rows x 6 columns]"
      ]
     },
     "execution_count": 4,
     "metadata": {},
     "output_type": "execute_result"
    }
   ],
   "source": [
    "df"
   ]
  },
  {
   "cell_type": "code",
   "execution_count": 5,
   "metadata": {},
   "outputs": [],
   "source": [
    "reg_dt = list(map(lambda x: dt.date(x), df['reg_dttm'].tolist()))\n",
    "client_age = list(map(lambda x: relativedelta(dt.now(), x).years , df['birth_dt']))\n",
    "\n",
    "df0 = pd.DataFrame(zip(df.purchase_dt, client_age,), columns = ['purchase_dt', 'client_age'])"
   ]
  },
  {
   "cell_type": "code",
   "execution_count": 6,
   "metadata": {},
   "outputs": [],
   "source": [
    "def find_age_groups(ages):\n",
    "    age_groups_list = []\n",
    "    for age in ages:\n",
    "        if 18 <= age < 25:\n",
    "           age_groups_list.append('18-24') \n",
    "        elif 25 <= age < 35:\n",
    "            age_groups_list.append('25-34')\n",
    "        elif 35 <= age < 45:\n",
    "            age_groups_list.append('35-44')\n",
    "        elif age >= 45:\n",
    "            age_groups_list.append('45+')\n",
    "    return age_groups_list"
   ]
  },
  {
   "cell_type": "code",
   "execution_count": 7,
   "metadata": {},
   "outputs": [],
   "source": [
    "df0.loc[:, 'age_group'] = find_age_groups(client_age)\n",
    "df0 = df0.drop(columns = 'client_age')"
   ]
  },
  {
   "cell_type": "code",
   "execution_count": 8,
   "metadata": {},
   "outputs": [
    {
     "data": {
      "text/html": [
       "<div>\n",
       "<style scoped>\n",
       "    .dataframe tbody tr th:only-of-type {\n",
       "        vertical-align: middle;\n",
       "    }\n",
       "\n",
       "    .dataframe tbody tr th {\n",
       "        vertical-align: top;\n",
       "    }\n",
       "\n",
       "    .dataframe thead th {\n",
       "        text-align: right;\n",
       "    }\n",
       "</style>\n",
       "<table border=\"1\" class=\"dataframe\">\n",
       "  <thead>\n",
       "    <tr style=\"text-align: right;\">\n",
       "      <th></th>\n",
       "      <th>purchase_dt</th>\n",
       "      <th>age_group</th>\n",
       "    </tr>\n",
       "  </thead>\n",
       "  <tbody>\n",
       "    <tr>\n",
       "      <th>0</th>\n",
       "      <td>NaT</td>\n",
       "      <td>25-34</td>\n",
       "    </tr>\n",
       "    <tr>\n",
       "      <th>1</th>\n",
       "      <td>NaT</td>\n",
       "      <td>45+</td>\n",
       "    </tr>\n",
       "    <tr>\n",
       "      <th>2</th>\n",
       "      <td>2019-02-12</td>\n",
       "      <td>25-34</td>\n",
       "    </tr>\n",
       "    <tr>\n",
       "      <th>3</th>\n",
       "      <td>NaT</td>\n",
       "      <td>35-44</td>\n",
       "    </tr>\n",
       "    <tr>\n",
       "      <th>4</th>\n",
       "      <td>NaT</td>\n",
       "      <td>25-34</td>\n",
       "    </tr>\n",
       "    <tr>\n",
       "      <th>...</th>\n",
       "      <td>...</td>\n",
       "      <td>...</td>\n",
       "    </tr>\n",
       "    <tr>\n",
       "      <th>2372</th>\n",
       "      <td>NaT</td>\n",
       "      <td>25-34</td>\n",
       "    </tr>\n",
       "    <tr>\n",
       "      <th>2373</th>\n",
       "      <td>2019-04-07</td>\n",
       "      <td>25-34</td>\n",
       "    </tr>\n",
       "    <tr>\n",
       "      <th>2374</th>\n",
       "      <td>2019-04-08</td>\n",
       "      <td>25-34</td>\n",
       "    </tr>\n",
       "    <tr>\n",
       "      <th>2375</th>\n",
       "      <td>NaT</td>\n",
       "      <td>18-24</td>\n",
       "    </tr>\n",
       "    <tr>\n",
       "      <th>2376</th>\n",
       "      <td>NaT</td>\n",
       "      <td>25-34</td>\n",
       "    </tr>\n",
       "  </tbody>\n",
       "</table>\n",
       "<p>2377 rows × 2 columns</p>\n",
       "</div>"
      ],
      "text/plain": [
       "     purchase_dt age_group\n",
       "0            NaT     25-34\n",
       "1            NaT       45+\n",
       "2     2019-02-12     25-34\n",
       "3            NaT     35-44\n",
       "4            NaT     25-34\n",
       "...          ...       ...\n",
       "2372         NaT     25-34\n",
       "2373  2019-04-07     25-34\n",
       "2374  2019-04-08     25-34\n",
       "2375         NaT     18-24\n",
       "2376         NaT     25-34\n",
       "\n",
       "[2377 rows x 2 columns]"
      ]
     },
     "execution_count": 8,
     "metadata": {},
     "output_type": "execute_result"
    }
   ],
   "source": [
    "df0"
   ]
  },
  {
   "cell_type": "code",
   "execution_count": 9,
   "metadata": {},
   "outputs": [],
   "source": [
    "age_groups = ['18-24', '25-34', '35-44','45+']"
   ]
  },
  {
   "cell_type": "code",
   "execution_count": 10,
   "metadata": {},
   "outputs": [],
   "source": [
    "age_groups = ['18-24', '25-34', '35-44','45+']\n",
    "dict1 = {}\n",
    "for age_group in age_groups:\n",
    "    a = df0.groupby('age_group').get_group(age_group).count().values\n",
    "    dict1[age_group] = (a[0] / a[1])"
   ]
  },
  {
   "cell_type": "code",
   "execution_count": 11,
   "metadata": {},
   "outputs": [
    {
     "data": {
      "text/plain": [
       "{'18-24': 0.56,\n",
       " '25-34': 0.48086124401913877,\n",
       " '35-44': 0.5169712793733682,\n",
       " '45+': 0.5265017667844523}"
      ]
     },
     "execution_count": 11,
     "metadata": {},
     "output_type": "execute_result"
    }
   ],
   "source": [
    "dict1"
   ]
  },
  {
   "cell_type": "code",
   "execution_count": 87,
   "metadata": {},
   "outputs": [
    {
     "data": {
      "text/plain": [
       "purchase_dt    490\n",
       "age_group      875\n",
       "dtype: int64"
      ]
     },
     "execution_count": 87,
     "metadata": {},
     "output_type": "execute_result"
    }
   ],
   "source": [
    "df0.groupby('age_group').get_group('18-24').count()"
   ]
  },
  {
   "cell_type": "code",
   "execution_count": 125,
   "metadata": {},
   "outputs": [
    {
     "data": {
      "text/plain": [
       "{'18-24': 0.56, '25-34': 0.4809, '35-44': 0.517, '45+': 0.5265}"
      ]
     },
     "execution_count": 125,
     "metadata": {},
     "output_type": "execute_result"
    }
   ],
   "source": [
    "val = np.float32(0)\n",
    "final_dict = {k: round(v.item(), 4) for k, v in zip(dict1.keys(), dict1.values())}\n",
    "final_dict"
   ]
  },
  {
   "cell_type": "code",
   "execution_count": 168,
   "metadata": {},
   "outputs": [
    {
     "data": {
      "text/plain": [
       "Text(0, 0.5, 'Age group')"
      ]
     },
     "execution_count": 168,
     "metadata": {},
     "output_type": "execute_result"
    },
    {
     "data": {
      "image/png": "[encoded data removed]",
      "text/plain": [
       "<Figure size 432x288 with 1 Axes>"
      ]
     },
     "metadata": {
      "needs_background": "light"
     },
     "output_type": "display_data"
    }
   ],
   "source": [
    "fig, ax = plt.subplots()\n",
    "barh = ax.barh(np.arange(len(final_dict)),\n",
    "        final_dict.values(),\n",
    "        tick_label = list(final_dict.keys())\n",
    "        )\n",
    "ax.spines['top'].set_visible(False)\n",
    "ax.spines['right'].set_visible(False)\n",
    "\n",
    "total = len(final_dict)\n",
    "for p in ax.patches:\n",
    "        percentage = '{:.1f}%'.format(100 * p.get_width())\n",
    "        x = p.get_x() + p.get_width() + 0.02\n",
    "        y = p.get_y() + p.get_height()/2\n",
    "        ax.annotate(percentage, (x, y))\n",
    "ax.set_title('Utilization percentage by age segments')\n",
    "ax.set_xlabel('Fraction')\n",
    "ax.set_ylabel('Age group')"
   ]
  },
  {
   "cell_type": "code",
   "execution_count": null,
   "metadata": {},
   "outputs": [],
   "source": []
  }
 ],
 "metadata": {
  "kernelspec": {
   "display_name": "Python 3",
   "language": "python",
   "name": "python3"
  },
  "language_info": {
   "codemirror_mode": {
    "name": "ipython",
    "version": 3
   },
   "file_extension": ".py",
   "mimetype": "text/x-python",
   "name": "python",
   "nbconvert_exporter": "python",
   "pygments_lexer": "ipython3",
   "version": "3.8.5"
  }
 },
 "nbformat": 4,
 "nbformat_minor": 4
}
