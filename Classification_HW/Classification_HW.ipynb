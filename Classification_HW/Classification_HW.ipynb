{
 "cells": [
  {
   "cell_type": "code",
   "execution_count": 1,
   "id": "5bcda5d0",
   "metadata": {
    "ExecuteTime": {
     "end_time": "2021-12-21T16:54:48.965016Z",
     "start_time": "2021-12-21T16:54:48.951053Z"
    }
   },
   "outputs": [],
   "source": [
    "import matplotlib\n",
    "import matplotlib.pyplot as plt\n",
    "import seaborn as sns\n",
    "\n",
    "from matplotlib import style\n",
    "matplotlib.rcParams.update(matplotlib.rcParamsDefault)\n",
    "%matplotlib inline\n",
    "style.use('bmh')\n",
    "\n",
    "import numpy as np\n",
    "import pandas as pd\n",
    "pd.options.mode.chained_assignment = None\n",
    "\n",
    "import warnings\n",
    "warnings.simplefilter(action='ignore', category=FutureWarning)"
   ]
  },
  {
   "cell_type": "code",
   "execution_count": 2,
   "id": "9260cadb",
   "metadata": {
    "ExecuteTime": {
     "end_time": "2021-12-21T16:54:49.773943Z",
     "start_time": "2021-12-21T16:54:49.566577Z"
    }
   },
   "outputs": [],
   "source": [
    "from sklearn.pipeline import Pipeline\n",
    "from sklearn.compose import ColumnTransformer\n",
    "from sklearn.preprocessing import OrdinalEncoder, OneHotEncoder\n",
    "from sklearn.preprocessing import StandardScaler, MinMaxScaler, RobustScaler\n",
    "from sklearn.model_selection import train_test_split, cross_val_score, GridSearchCV, KFold\n",
    "\n",
    "from sklearn.preprocessing import StandardScaler, MinMaxScaler, RobustScaler\n",
    "from sklearn.model_selection import train_test_split, cross_val_score, GridSearchCV, KFold\n",
    "from catboost import CatBoostClassifier\n",
    "\n",
    "from sklearn.linear_model import LogisticRegression\n",
    "from sklearn.metrics import confusion_matrix, accuracy_score, precision_score, recall_score, f1_score, roc_auc_score, classification_report\n",
    "from sklearn.metrics import plot_confusion_matrix"
   ]
  },
  {
   "cell_type": "code",
   "execution_count": 3,
   "id": "225f1217",
   "metadata": {
    "ExecuteTime": {
     "end_time": "2021-12-21T16:54:51.806647Z",
     "start_time": "2021-12-21T16:54:50.072600Z"
    }
   },
   "outputs": [],
   "source": [
    "example = pd.read_csv('predictions_example.csv')\n",
    "df_train = pd.read_csv('train.csv', )\n",
    "df_test = pd.read_csv('test.csv')\n",
    "sites = pd.read_pickle('sites.pkl')\n",
    "sites = {k:v for v, k in sites.items()}\n",
    "df_sites = pd.DataFrame({'site': sites.values(), 'id':sites.keys()})\n",
    "\n",
    "df_test.drop(df_test.columns[0], axis = 1, inplace = True)\n",
    "df_train.drop(df_train.columns[0], axis = 1, inplace = True)"
   ]
  },
  {
   "cell_type": "code",
   "execution_count": 4,
   "id": "5e0adcf1",
   "metadata": {
    "ExecuteTime": {
     "end_time": "2021-12-21T16:54:53.431659Z",
     "start_time": "2021-12-21T16:54:53.032567Z"
    }
   },
   "outputs": [],
   "source": [
    "sites_cols = ['site' + str(i) for i in range(1, 11)]\n",
    "time_cols = ['time' + str(i) for i in range(1, 11)]\n",
    "df_time = df_train[[*time_cols, 'target']]\n",
    "df_sites_names = df_train[sites_cols].astype(float)\n",
    "\n",
    "for col in df_sites_names.columns:\n",
    "    df_sites_names[col] = df_sites_names[col].map(sites)\n",
    "df_sites_names['target'] = df_train['target']"
   ]
  },
  {
   "cell_type": "markdown",
   "id": "a3e356f1",
   "metadata": {},
   "source": [
    "Классы сильно несбалансированы"
   ]
  },
  {
   "cell_type": "code",
   "execution_count": 5,
   "id": "b735a7e3",
   "metadata": {
    "ExecuteTime": {
     "end_time": "2021-12-21T16:54:54.885215Z",
     "start_time": "2021-12-21T16:54:54.873248Z"
    }
   },
   "outputs": [
    {
     "data": {
      "text/plain": [
       "0    0.99062\n",
       "1    0.00938\n",
       "Name: target, dtype: float64"
      ]
     },
     "execution_count": 5,
     "metadata": {},
     "output_type": "execute_result"
    }
   ],
   "source": [
    "df_train['target'].value_counts(normalize = True)"
   ]
  },
  {
   "cell_type": "markdown",
   "id": "f8014f15",
   "metadata": {},
   "source": [
    "Для начала переведем все в DateTime и посмотрим на дельты кликов"
   ]
  },
  {
   "cell_type": "code",
   "execution_count": 6,
   "id": "c75f7aac",
   "metadata": {
    "ExecuteTime": {
     "end_time": "2021-12-21T16:54:58.138582Z",
     "start_time": "2021-12-21T16:54:56.632703Z"
    }
   },
   "outputs": [
    {
     "data": {
      "text/html": [
       "<div>\n",
       "<style scoped>\n",
       "    .dataframe tbody tr th:only-of-type {\n",
       "        vertical-align: middle;\n",
       "    }\n",
       "\n",
       "    .dataframe tbody tr th {\n",
       "        vertical-align: top;\n",
       "    }\n",
       "\n",
       "    .dataframe thead th {\n",
       "        text-align: right;\n",
       "    }\n",
       "</style>\n",
       "<table border=\"1\" class=\"dataframe\">\n",
       "  <thead>\n",
       "    <tr style=\"text-align: right;\">\n",
       "      <th></th>\n",
       "      <th>time1</th>\n",
       "      <th>time2</th>\n",
       "      <th>time3</th>\n",
       "      <th>time4</th>\n",
       "      <th>time5</th>\n",
       "      <th>time6</th>\n",
       "      <th>time7</th>\n",
       "      <th>time8</th>\n",
       "      <th>time9</th>\n",
       "      <th>time10</th>\n",
       "      <th>target</th>\n",
       "    </tr>\n",
       "  </thead>\n",
       "  <tbody>\n",
       "    <tr>\n",
       "      <th>0</th>\n",
       "      <td>2013-01-12 08:05:57</td>\n",
       "      <td>2013-01-12 08:05:57</td>\n",
       "      <td>NaT</td>\n",
       "      <td>NaT</td>\n",
       "      <td>NaT</td>\n",
       "      <td>NaT</td>\n",
       "      <td>NaT</td>\n",
       "      <td>NaT</td>\n",
       "      <td>NaT</td>\n",
       "      <td>NaT</td>\n",
       "      <td>0</td>\n",
       "    </tr>\n",
       "    <tr>\n",
       "      <th>1</th>\n",
       "      <td>2013-01-12 08:37:23</td>\n",
       "      <td>2013-01-12 08:37:23</td>\n",
       "      <td>2013-01-12 09:07:07</td>\n",
       "      <td>2013-01-12 09:07:09</td>\n",
       "      <td>NaT</td>\n",
       "      <td>NaT</td>\n",
       "      <td>NaT</td>\n",
       "      <td>NaT</td>\n",
       "      <td>NaT</td>\n",
       "      <td>NaT</td>\n",
       "      <td>0</td>\n",
       "    </tr>\n",
       "    <tr>\n",
       "      <th>2</th>\n",
       "      <td>2013-01-12 08:50:13</td>\n",
       "      <td>2013-01-12 08:50:14</td>\n",
       "      <td>2013-01-12 08:50:15</td>\n",
       "      <td>2013-01-12 08:50:15</td>\n",
       "      <td>2013-01-12 08:50:16</td>\n",
       "      <td>2013-01-12 08:50:16</td>\n",
       "      <td>2013-01-12 08:50:16</td>\n",
       "      <td>2013-01-12 08:50:16</td>\n",
       "      <td>2013-01-12 08:50:17</td>\n",
       "      <td>2013-01-12 08:50:17</td>\n",
       "      <td>0</td>\n",
       "    </tr>\n",
       "  </tbody>\n",
       "</table>\n",
       "</div>"
      ],
      "text/plain": [
       "                time1               time2               time3  \\\n",
       "0 2013-01-12 08:05:57 2013-01-12 08:05:57                 NaT   \n",
       "1 2013-01-12 08:37:23 2013-01-12 08:37:23 2013-01-12 09:07:07   \n",
       "2 2013-01-12 08:50:13 2013-01-12 08:50:14 2013-01-12 08:50:15   \n",
       "\n",
       "                time4               time5               time6  \\\n",
       "0                 NaT                 NaT                 NaT   \n",
       "1 2013-01-12 09:07:09                 NaT                 NaT   \n",
       "2 2013-01-12 08:50:15 2013-01-12 08:50:16 2013-01-12 08:50:16   \n",
       "\n",
       "                time7               time8               time9  \\\n",
       "0                 NaT                 NaT                 NaT   \n",
       "1                 NaT                 NaT                 NaT   \n",
       "2 2013-01-12 08:50:16 2013-01-12 08:50:16 2013-01-12 08:50:17   \n",
       "\n",
       "               time10  target  \n",
       "0                 NaT       0  \n",
       "1                 NaT       0  \n",
       "2 2013-01-12 08:50:17       0  "
      ]
     },
     "execution_count": 6,
     "metadata": {},
     "output_type": "execute_result"
    }
   ],
   "source": [
    "for i in range(1, 11):\n",
    "    col = 'time' + str(i)\n",
    "    df_time[col] = pd.to_datetime(df_time[col], format = '%Y/%m/%d', infer_datetime_format=True)\n",
    "\n",
    "df_time.head(3)"
   ]
  },
  {
   "cell_type": "code",
   "execution_count": 7,
   "id": "73704866",
   "metadata": {
    "ExecuteTime": {
     "end_time": "2021-12-21T16:54:59.669669Z",
     "start_time": "2021-12-21T16:54:59.531988Z"
    }
   },
   "outputs": [
    {
     "data": {
      "text/html": [
       "<div>\n",
       "<style scoped>\n",
       "    .dataframe tbody tr th:only-of-type {\n",
       "        vertical-align: middle;\n",
       "    }\n",
       "\n",
       "    .dataframe tbody tr th {\n",
       "        vertical-align: top;\n",
       "    }\n",
       "\n",
       "    .dataframe thead th {\n",
       "        text-align: right;\n",
       "    }\n",
       "</style>\n",
       "<table border=\"1\" class=\"dataframe\">\n",
       "  <thead>\n",
       "    <tr style=\"text-align: right;\">\n",
       "      <th></th>\n",
       "      <th>time2</th>\n",
       "      <th>time3</th>\n",
       "      <th>time4</th>\n",
       "      <th>time5</th>\n",
       "      <th>time6</th>\n",
       "      <th>time7</th>\n",
       "      <th>time8</th>\n",
       "      <th>time9</th>\n",
       "      <th>time10</th>\n",
       "      <th>target</th>\n",
       "    </tr>\n",
       "  </thead>\n",
       "  <tbody>\n",
       "    <tr>\n",
       "      <th>0</th>\n",
       "      <td>0.0</td>\n",
       "      <td>NaN</td>\n",
       "      <td>NaN</td>\n",
       "      <td>NaN</td>\n",
       "      <td>NaN</td>\n",
       "      <td>NaN</td>\n",
       "      <td>NaN</td>\n",
       "      <td>NaN</td>\n",
       "      <td>NaN</td>\n",
       "      <td>0</td>\n",
       "    </tr>\n",
       "    <tr>\n",
       "      <th>1</th>\n",
       "      <td>0.0</td>\n",
       "      <td>1784.0</td>\n",
       "      <td>2.0</td>\n",
       "      <td>NaN</td>\n",
       "      <td>NaN</td>\n",
       "      <td>NaN</td>\n",
       "      <td>NaN</td>\n",
       "      <td>NaN</td>\n",
       "      <td>NaN</td>\n",
       "      <td>0</td>\n",
       "    </tr>\n",
       "    <tr>\n",
       "      <th>2</th>\n",
       "      <td>1.0</td>\n",
       "      <td>1.0</td>\n",
       "      <td>0.0</td>\n",
       "      <td>1.0</td>\n",
       "      <td>0.0</td>\n",
       "      <td>0.0</td>\n",
       "      <td>0.0</td>\n",
       "      <td>1.0</td>\n",
       "      <td>0.0</td>\n",
       "      <td>0</td>\n",
       "    </tr>\n",
       "  </tbody>\n",
       "</table>\n",
       "</div>"
      ],
      "text/plain": [
       "   time2   time3  time4  time5  time6  time7  time8  time9  time10  target\n",
       "0    0.0     NaN    NaN    NaN    NaN    NaN    NaN    NaN     NaN       0\n",
       "1    0.0  1784.0    2.0    NaN    NaN    NaN    NaN    NaN     NaN       0\n",
       "2    1.0     1.0    0.0    1.0    0.0    0.0    0.0    1.0     0.0       0"
      ]
     },
     "execution_count": 7,
     "metadata": {},
     "output_type": "execute_result"
    }
   ],
   "source": [
    "df_timedeltas = df_time[time_cols].diff(axis = 1).drop('time1', axis = 1)\n",
    "for col in df_timedeltas.columns:\n",
    "    df_timedeltas[col] = df_timedeltas[col].dt.total_seconds()\n",
    "df_timedeltas['target'] = df_train['target']\n",
    "df_timedeltas.head(3)"
   ]
  },
  {
   "cell_type": "code",
   "execution_count": 8,
   "id": "6c5047f9",
   "metadata": {
    "ExecuteTime": {
     "end_time": "2021-12-21T16:55:02.615043Z",
     "start_time": "2021-12-21T16:55:01.112523Z"
    }
   },
   "outputs": [
    {
     "data": {
      "text/plain": [
       "<AxesSubplot:xlabel='target'>"
      ]
     },
     "execution_count": 8,
     "metadata": {},
     "output_type": "execute_result"
    },
    {
     "data": {
      "image/png": "[encoded data removed]",
      "text/plain": [
       "<Figure size 720x432 with 1 Axes>"
      ]
     },
     "metadata": {
      "needs_background": "light"
     },
     "output_type": "display_data"
    }
   ],
   "source": [
    "df_timedeltas.groupby('target').mean().plot.bar(figsize = (10, 6))"
   ]
  },
  {
   "cell_type": "markdown",
   "id": "3aa62a29",
   "metadata": {},
   "source": [
    "Даже на глаз видно, что средние у дельт сильно отличаются по группам"
   ]
  },
  {
   "cell_type": "code",
   "execution_count": 9,
   "id": "6c92da91",
   "metadata": {
    "ExecuteTime": {
     "end_time": "2021-12-21T16:55:04.718847Z",
     "start_time": "2021-12-21T16:55:04.698931Z"
    }
   },
   "outputs": [],
   "source": [
    "def basic_cboost(df, target, cat_features = None, random_seed = 54, silent = True):\n",
    "    X_train, X_test, y_train, y_test = train_test_split(df,\n",
    "                                                    target,\n",
    "                                                    train_size = 0.8,\n",
    "                                                    random_state = random_seed)\n",
    "\n",
    "    cboost = CatBoostClassifier(cat_features = cat_features, random_seed = random_seed, silent=silent)\n",
    "    cboost.fit(X_train, y_train)\n",
    "    res = {}\n",
    "    y_pred = cboost.predict(X_test)\n",
    "    y_proba = cboost.predict_proba(X_test)[:, 1]\n",
    "    res['model'] = cboost\n",
    "    res['y_pred'] = y_pred\n",
    "    res['y_train'] = y_train\n",
    "    res['probas'] = y_proba\n",
    "    res['y_test'] = y_test\n",
    "    res['X_test'] = X_test\n",
    "    res['X_train'] = X_train\n",
    "    return res\n",
    "\n",
    "def show_quality(res_dict):\n",
    "    print(classification_report(res_dict['y_test'], res_dict['y_pred']))\n",
    "    print(f\"ROC-AUC score: {round(roc_auc_score(res_dict['y_test'], res_dict['probas']), 5)}\")\n",
    "    plot_confusion_matrix(res_dict['model'], res_dict['X_test'], res_dict['y_test']);\n",
    "    \n",
    "    "
   ]
  },
  {
   "cell_type": "markdown",
   "id": "795bc54b",
   "metadata": {},
   "source": [
    "### Модель 1 - Сайты как бинарные признаки (один и тот же/другой) + дельты кликов"
   ]
  },
  {
   "cell_type": "code",
   "execution_count": 10,
   "id": "15ea4bbf",
   "metadata": {
    "ExecuteTime": {
     "end_time": "2021-12-21T16:55:12.007143Z",
     "start_time": "2021-12-21T16:55:10.108024Z"
    }
   },
   "outputs": [],
   "source": [
    "df_sites_binary = df_train[sites_cols].diff(axis = 1).iloc[:, 1:] # находим разности по строкам\n",
    "\n",
    "df_sites_binary = df_sites_binary.applymap(lambda x: -1 if x == np.nan else x)\n",
    "df_sites_binary = df_sites_binary.applymap(lambda x: 1 if x == 0 else x)\n",
    "df_sites_binary = df_sites_binary.applymap(lambda x: 0 if (x != 1 and x != -1) else x)\n",
    "\n",
    "df_v1 = df_timedeltas.join(df_sites_binary, how = 'outer')\n",
    "df_v1.fillna(-1, inplace = True)\n",
    "df_v1.drop('target', axis = 1, inplace = True)\n",
    "target = df_train['target']"
   ]
  },
  {
   "cell_type": "code",
   "execution_count": 11,
   "id": "fa137acc",
   "metadata": {
    "ExecuteTime": {
     "end_time": "2021-12-21T16:56:10.271979Z",
     "start_time": "2021-12-21T16:55:13.991920Z"
    }
   },
   "outputs": [
    {
     "name": "stdout",
     "output_type": "stream",
     "text": [
      "              precision    recall  f1-score   support\n",
      "\n",
      "           0       0.99      1.00      1.00     39619\n",
      "           1       0.00      0.00      0.00       381\n",
      "\n",
      "    accuracy                           0.99     40000\n",
      "   macro avg       0.50      0.50      0.50     40000\n",
      "weighted avg       0.98      0.99      0.99     40000\n",
      "\n",
      "ROC-AUC score: 0.6844\n"
     ]
    },
    {
     "data": {
      "image/png": "[encoded data removed]",
      "text/plain": [
       "<Figure size 432x288 with 2 Axes>"
      ]
     },
     "metadata": {
      "needs_background": "light"
     },
     "output_type": "display_data"
    }
   ],
   "source": [
    "# click deltas + binary sites features (same/not same)\n",
    "import warnings\n",
    "warnings.filterwarnings('ignore')\n",
    "\n",
    "model_1 = basic_cboost(df_v1, target)\n",
    "show_quality(model_1)"
   ]
  },
  {
   "cell_type": "markdown",
   "id": "5ab7b788",
   "metadata": {},
   "source": [
    "### Модель 2 - Разложение времени (день-час-минута-секунда) + сайты как кат. признаки"
   ]
  },
  {
   "cell_type": "code",
   "execution_count": 12,
   "id": "8619e2b6",
   "metadata": {
    "ExecuteTime": {
     "end_time": "2021-12-21T10:18:45.316569Z",
     "start_time": "2021-12-21T10:18:13.574450Z"
    }
   },
   "outputs": [],
   "source": [
    "df_v2 = df_time.copy()\n",
    "\n",
    "for i, col in enumerate(time_cols):\n",
    "    # день недели\n",
    "    df_v2['day_week_num' + str(i)] = df_v2[col].apply(lambda x: x.dayofweek)\n",
    "    # час\n",
    "    df_v2['hour_num' + str(i)] = df_v2[col].apply(lambda x: x.hour)\n",
    "    # минута\n",
    "    df_v2['minute_num' + str(i)] = df_v2[col].apply(lambda x: x.minute)\n",
    "    # секунда\n",
    "    df_v2['second_num' + str(i)] = df_v2[col].apply(lambda x: x.second)\n",
    "\n",
    "df_v2.drop(columns=time_cols, inplace=True)\n",
    "df_v2.drop('target', axis = 1, inplace = True)"
   ]
  },
  {
   "cell_type": "code",
   "execution_count": 13,
   "id": "1e1f2adc",
   "metadata": {
    "ExecuteTime": {
     "end_time": "2021-12-21T10:18:45.627896Z",
     "start_time": "2021-12-21T10:18:45.318069Z"
    }
   },
   "outputs": [],
   "source": [
    "df_v2 = df_v2.join(df_train[sites_cols], how = 'outer')\n",
    "df_v2.fillna(-1, inplace = True)\n",
    "df_v2[sites_cols] = df_v2[sites_cols].astype(int)\n",
    "\n",
    "df_v2_cols = [col for col in df_v2.columns if col != 'target']\n",
    "df_v2_time_cols = [col for col in df_v2_cols if col not in sites_cols]"
   ]
  },
  {
   "cell_type": "code",
   "execution_count": 14,
   "id": "ed468a16",
   "metadata": {
    "ExecuteTime": {
     "end_time": "2021-12-21T10:24:28.449244Z",
     "start_time": "2021-12-21T10:18:45.628930Z"
    }
   },
   "outputs": [
    {
     "name": "stdout",
     "output_type": "stream",
     "text": [
      "              precision    recall  f1-score   support\n",
      "\n",
      "           0       1.00      1.00      1.00     39619\n",
      "           1       0.84      0.60      0.70       381\n",
      "\n",
      "    accuracy                           1.00     40000\n",
      "   macro avg       0.92      0.80      0.85     40000\n",
      "weighted avg       0.99      1.00      0.99     40000\n",
      "\n",
      "ROC-AUC score: 0.98926\n"
     ]
    },
    {
     "data": {
      "image/png": "[encoded data removed]",
      "text/plain": [
       "<Figure size 432x288 with 2 Axes>"
      ]
     },
     "metadata": {
      "needs_background": "light"
     },
     "output_type": "display_data"
    }
   ],
   "source": [
    "# day+hour+minute+second and sites as cat_features\n",
    "model_2 = basic_cboost(df_v2, target, cat_features = sites_cols)\n",
    "show_quality(model_2)"
   ]
  },
  {
   "cell_type": "markdown",
   "id": "3070ed08",
   "metadata": {},
   "source": [
    "### Модель 3 - Модель 2 + дельты кликов"
   ]
  },
  {
   "cell_type": "code",
   "execution_count": 15,
   "id": "1b4ac911",
   "metadata": {
    "ExecuteTime": {
     "end_time": "2021-12-21T10:24:28.635608Z",
     "start_time": "2021-12-21T10:24:28.451238Z"
    }
   },
   "outputs": [],
   "source": [
    "df_v3 = df_v2.join(df_timedeltas, how = 'outer')\n",
    "df_v3.drop('target', axis = 1, inplace = True)\n",
    "df_v3.fillna(-1, inplace = True)"
   ]
  },
  {
   "cell_type": "code",
   "execution_count": 16,
   "id": "efbc287b",
   "metadata": {
    "ExecuteTime": {
     "end_time": "2021-12-21T10:30:01.874445Z",
     "start_time": "2021-12-21T10:24:28.637533Z"
    }
   },
   "outputs": [
    {
     "name": "stdout",
     "output_type": "stream",
     "text": [
      "              precision    recall  f1-score   support\n",
      "\n",
      "           0       1.00      1.00      1.00     39619\n",
      "           1       0.85      0.57      0.69       381\n",
      "\n",
      "    accuracy                           0.99     40000\n",
      "   macro avg       0.92      0.79      0.84     40000\n",
      "weighted avg       0.99      0.99      0.99     40000\n",
      "\n",
      "ROC-AUC score: 0.98927\n"
     ]
    },
    {
     "data": {
      "image/png": "[encoded data removed]",
      "text/plain": [
       "<Figure size 432x288 with 2 Axes>"
      ]
     },
     "metadata": {
      "needs_background": "light"
     },
     "output_type": "display_data"
    }
   ],
   "source": [
    "# day+hour+minute+second, click deltas and sites as cat_features\n",
    "model_3 = basic_cboost(df_v3, target, cat_features = sites_cols)\n",
    "show_quality(model_3)"
   ]
  },
  {
   "cell_type": "markdown",
   "id": "bbfcee7a",
   "metadata": {},
   "source": [
    "### Модель 4 - Модель 3 + Разложение времени (доб. год+месяц+номер недели)"
   ]
  },
  {
   "cell_type": "code",
   "execution_count": 12,
   "id": "646a210f",
   "metadata": {
    "ExecuteTime": {
     "end_time": "2021-12-21T16:57:32.553829Z",
     "start_time": "2021-12-21T16:56:12.378654Z"
    }
   },
   "outputs": [],
   "source": [
    "df_v4 = df_time.copy()\n",
    "\n",
    "for i, col in enumerate(time_cols):\n",
    "    df_v4['year_num' + str(i)] = df_v4[col].apply(lambda x: x.year)\n",
    "    df_v4['month_num' + str(i)] = df_v4[col].apply(lambda x: x.month)\n",
    "    df_v4['week_num' + str(i)] = df_v4[col].apply(lambda x: x.week)\n",
    "    # день недели\n",
    "    df_v4['day_week_num' + str(i)] = df_v4[col].apply(lambda x: x.dayofweek)\n",
    "    # час\n",
    "    df_v4['hour_num' + str(i)] = df_v4[col].apply(lambda x: x.hour)\n",
    "    # минута\n",
    "    df_v4['minute_num' + str(i)] = df_v4[col].apply(lambda x: x.minute)\n",
    "    # секунда\n",
    "    df_v4['second_num' + str(i)] = df_v4[col].apply(lambda x: x.second)\n",
    "\n",
    "df_v4.drop(columns=time_cols, inplace=True)\n",
    "df_v4.drop('target', axis = 1, inplace = True)\n",
    "\n",
    "df_v4 = df_v4.join(df_train[sites_cols], how = 'outer')\n",
    "df_v4.fillna(-1, inplace = True)\n",
    "df_v4[sites_cols] = df_v4[sites_cols].astype(int)"
   ]
  },
  {
   "cell_type": "code",
   "execution_count": 18,
   "id": "07fa1b69",
   "metadata": {
    "ExecuteTime": {
     "end_time": "2021-12-21T10:36:41.101491Z",
     "start_time": "2021-12-21T10:31:02.337156Z"
    }
   },
   "outputs": [
    {
     "name": "stdout",
     "output_type": "stream",
     "text": [
      "              precision    recall  f1-score   support\n",
      "\n",
      "           0       1.00      1.00      1.00     39619\n",
      "           1       0.93      0.75      0.83       381\n",
      "\n",
      "    accuracy                           1.00     40000\n",
      "   macro avg       0.96      0.88      0.92     40000\n",
      "weighted avg       1.00      1.00      1.00     40000\n",
      "\n",
      "ROC-AUC score: 0.99632\n"
     ]
    },
    {
     "data": {
      "image/png": "[encoded data removed]",
      "text/plain": [
       "<Figure size 432x288 with 2 Axes>"
      ]
     },
     "metadata": {
      "needs_background": "light"
     },
     "output_type": "display_data"
    }
   ],
   "source": [
    "# year+month+week+day+hour+minute+second and sites as cat_features\n",
    "model_4 = basic_cboost(df_v4, target, cat_features = sites_cols)\n",
    "show_quality(model_4)"
   ]
  },
  {
   "cell_type": "markdown",
   "id": "32e37ffe",
   "metadata": {},
   "source": [
    "### Модель 5 - Модель 4 + Тип дня (выходной/будний)"
   ]
  },
  {
   "cell_type": "code",
   "execution_count": 19,
   "id": "047f821f",
   "metadata": {
    "ExecuteTime": {
     "end_time": "2021-12-21T10:37:45.651214Z",
     "start_time": "2021-12-21T10:36:41.103449Z"
    }
   },
   "outputs": [],
   "source": [
    "df_v5 = df_time.copy()\n",
    "\n",
    "for i, col in enumerate(time_cols):\n",
    "    df_v5['year_num' + str(i)] = df_v5[col].apply(lambda x: x.year)\n",
    "    df_v5['month_num' + str(i)] = df_v5[col].apply(lambda x: x.month)\n",
    "    df_v5['week_num' + str(i)] = df_v5[col].apply(lambda x: x.week)\n",
    "    # день недели\n",
    "    df_v5['day_week_num' + str(i)] = df_v5[col].apply(lambda x: x.dayofweek)\n",
    "    # выходной/не выходной\n",
    "    df_v5['day_week_type' + str(i)] = df_v5['day_week_num' + str(i)].apply(lambda x: 0 if x < 5 else x)\n",
    "    df_v5['day_week_type' + str(i)] = df_v5['day_week_type' + str(i)].apply(lambda x: 1 if x >= 5 else x)\n",
    "    # час\n",
    "    df_v5['hour_num' + str(i)] = df_v5[col].apply(lambda x: x.hour)\n",
    "    # минута\n",
    "    df_v5['minute_num' + str(i)] = df_v5[col].apply(lambda x: x.minute)\n",
    "    # секунда\n",
    "    df_v5['second_num' + str(i)] = df_v5[col].apply(lambda x: x.second)\n",
    "    \n",
    "df_v5.drop(columns=time_cols, inplace=True)\n",
    "df_v5.drop('target', axis = 1, inplace = True)\n",
    "\n",
    "df_v5 = df_v5.join(df_train[sites_cols], how = 'outer')\n",
    "df_v5.fillna(-1, inplace = True)\n",
    "df_v5[sites_cols] = df_v5[sites_cols].astype(int)"
   ]
  },
  {
   "cell_type": "code",
   "execution_count": 20,
   "id": "2162559c",
   "metadata": {
    "ExecuteTime": {
     "end_time": "2021-12-21T10:43:35.123992Z",
     "start_time": "2021-12-21T10:37:45.652159Z"
    }
   },
   "outputs": [
    {
     "name": "stdout",
     "output_type": "stream",
     "text": [
      "              precision    recall  f1-score   support\n",
      "\n",
      "           0       1.00      1.00      1.00     39619\n",
      "           1       0.92      0.75      0.82       381\n",
      "\n",
      "    accuracy                           1.00     40000\n",
      "   macro avg       0.96      0.87      0.91     40000\n",
      "weighted avg       1.00      1.00      1.00     40000\n",
      "\n",
      "ROC-AUC score: 0.99618\n"
     ]
    },
    {
     "data": {
      "image/png": "[encoded data removed]",
      "text/plain": [
       "<Figure size 432x288 with 2 Axes>"
      ]
     },
     "metadata": {
      "needs_background": "light"
     },
     "output_type": "display_data"
    }
   ],
   "source": [
    "# year+month+week+day+ day type + hour+minute+second and sites as cat_features\n",
    "model_5 = basic_cboost(df_v5, target, cat_features = sites_cols)\n",
    "show_quality(model_5)"
   ]
  },
  {
   "cell_type": "markdown",
   "id": "6170abf3",
   "metadata": {},
   "source": [
    "### Модель 6 -Модель 4 + Длина названия сайта + количество цифр в названии + количество букв в названии"
   ]
  },
  {
   "cell_type": "code",
   "execution_count": 21,
   "id": "3d23d283",
   "metadata": {
    "ExecuteTime": {
     "end_time": "2021-12-21T10:43:49.406467Z",
     "start_time": "2021-12-21T10:43:35.127976Z"
    }
   },
   "outputs": [],
   "source": [
    "sites[-1] = -1\n",
    "\n",
    "df_v6 = df_v4.copy()\n",
    "for site in sites_cols:\n",
    "    df_v6[site + '_str'] = df_v6[site].map(lambda x: sites[x])\n",
    "    df_v6[site + '_letter_count'] = df_v6[site + '_str'].map(lambda x: sum(c.isalpha() for c in x) if x!=-1 else x)\n",
    "    df_v6[site + '_digits_count'] = df_v6[site + '_str'].map(lambda x: sum(c.isdigit() for c in x) if x!=-1 else x)\n",
    "    df_v6[site + '_total_len'] = df_v6[site + '_str'].map(lambda x: len(x) if x!=-1 else x)\n",
    "    df_v6.drop(site + '_str', axis = 1, inplace = True)\n",
    "    "
   ]
  },
  {
   "cell_type": "code",
   "execution_count": 22,
   "id": "2e53f25a",
   "metadata": {
    "ExecuteTime": {
     "end_time": "2021-12-21T10:49:42.157423Z",
     "start_time": "2021-12-21T10:43:49.410457Z"
    }
   },
   "outputs": [
    {
     "name": "stdout",
     "output_type": "stream",
     "text": [
      "              precision    recall  f1-score   support\n",
      "\n",
      "           0       1.00      1.00      1.00     39619\n",
      "           1       0.92      0.73      0.82       381\n",
      "\n",
      "    accuracy                           1.00     40000\n",
      "   macro avg       0.96      0.87      0.91     40000\n",
      "weighted avg       1.00      1.00      1.00     40000\n",
      "\n",
      "ROC-AUC score: 0.99491\n"
     ]
    },
    {
     "data": {
      "image/png": "[encoded data removed]",
      "text/plain": [
       "<Figure size 432x288 with 2 Axes>"
      ]
     },
     "metadata": {
      "needs_background": "light"
     },
     "output_type": "display_data"
    }
   ],
   "source": [
    "# year+month+week+day+hour+minute+second , sites as cat_features + site name length + number of digits + number of letters\n",
    "model_6 = basic_cboost(df_v6, target, cat_features = sites_cols)\n",
    "show_quality(model_6)"
   ]
  },
  {
   "cell_type": "markdown",
   "id": "bbaf07e5",
   "metadata": {},
   "source": [
    "## Модель 7 - Модель 6 + Префикс сайта и Доменное имя как кат. признаки"
   ]
  },
  {
   "cell_type": "code",
   "execution_count": 23,
   "id": "53dde491",
   "metadata": {
    "ExecuteTime": {
     "end_time": "2021-12-21T10:50:00.981022Z",
     "start_time": "2021-12-21T10:49:42.167089Z"
    }
   },
   "outputs": [],
   "source": [
    "df_v7 = df_v4.copy()\n",
    "postfix_cols = []\n",
    "prefix_cols = []\n",
    "for site in sites_cols:\n",
    "    df_v7[site + '_str'] = df_v7[site].map(lambda x: sites[x])\n",
    "    df_v7[site + '_prefix'] = df_v7[site + '_str'].map(lambda x: x.split('.')[0] if x != -1 else x)\n",
    "    df_v7[site + '_postfix'] = df_v7[site + '_str'].map(lambda x: x.split('.')[-1] if x != -1 else x)\n",
    "    \n",
    "    postfix_cols.append(site + '_postfix')\n",
    "    prefix_cols.append(site + '_prefix')\n",
    "    \n",
    "    df_v7[site + '_letter_count'] = df_v7[site + '_str'].map(lambda x: sum(c.isalpha() for c in x) if x!=-1 else x)\n",
    "    df_v7[site + '_digits_count'] = df_v7[site + '_str'].map(lambda x: sum(c.isdigit() for c in x) if x!=-1 else x)\n",
    "    df_v7[site + '_total_len'] = df_v7[site + '_str'].map(lambda x: len(x) if x!=-1 else x)\n",
    "    df_v7.drop(site + '_str', axis = 1, inplace = True)\n",
    "    "
   ]
  },
  {
   "cell_type": "code",
   "execution_count": 24,
   "id": "1f0036d5",
   "metadata": {
    "ExecuteTime": {
     "end_time": "2021-12-21T11:04:11.382067Z",
     "start_time": "2021-12-21T10:50:00.990000Z"
    }
   },
   "outputs": [
    {
     "name": "stdout",
     "output_type": "stream",
     "text": [
      "              precision    recall  f1-score   support\n",
      "\n",
      "           0       1.00      1.00      1.00     39619\n",
      "           1       0.92      0.70      0.80       381\n",
      "\n",
      "    accuracy                           1.00     40000\n",
      "   macro avg       0.96      0.85      0.90     40000\n",
      "weighted avg       1.00      1.00      1.00     40000\n",
      "\n",
      "ROC-AUC score: 0.99338\n"
     ]
    },
    {
     "data": {
      "image/png": "[encoded data removed]",
      "text/plain": [
       "<Figure size 432x288 with 2 Axes>"
      ]
     },
     "metadata": {
      "needs_background": "light"
     },
     "output_type": "display_data"
    }
   ],
   "source": [
    "# year+month+week+day+hour+minute+second , sites as cat_features + site name length + number of digits + number of letters + site prefix and postfix as cat_features\n",
    "model_7 = basic_cboost(df_v7, target, cat_features = sites_cols+postfix_cols+prefix_cols)\n",
    "show_quality(model_7)"
   ]
  },
  {
   "cell_type": "markdown",
   "id": "8a8c291a",
   "metadata": {},
   "source": [
    "## Модель 8 - Модель 4 + дельта кликов + число цифр в названии + число букв в названии"
   ]
  },
  {
   "cell_type": "code",
   "execution_count": 25,
   "id": "a9f68547",
   "metadata": {
    "ExecuteTime": {
     "end_time": "2021-12-21T11:04:25.716126Z",
     "start_time": "2021-12-21T11:04:11.385031Z"
    }
   },
   "outputs": [],
   "source": [
    "df_v8 = df_v4.copy()\n",
    "for site in sites_cols:\n",
    "    df_v8[site + '_str'] = df_v8[site].map(lambda x: sites[x])\n",
    "    df_v8[site + '_letter_count'] = df_v8[site + '_str'].map(lambda x: sum(c.isalpha() for c in x) if x!=-1 else x)\n",
    "    df_v8[site + '_digits_count'] = df_v8[site + '_str'].map(lambda x: sum(c.isdigit() for c in x) if x!=-1 else x)\n",
    "    df_v8.drop(site + '_str', axis = 1, inplace = True)\n",
    "    \n",
    "df_v8 = df_v8.join(df_timedeltas.fillna(-1).drop('target', axis = 1), how = 'outer')"
   ]
  },
  {
   "cell_type": "code",
   "execution_count": 26,
   "id": "141ed1f9",
   "metadata": {
    "ExecuteTime": {
     "end_time": "2021-12-21T11:10:30.344460Z",
     "start_time": "2021-12-21T11:04:25.717594Z"
    }
   },
   "outputs": [
    {
     "name": "stdout",
     "output_type": "stream",
     "text": [
      "              precision    recall  f1-score   support\n",
      "\n",
      "           0       1.00      1.00      1.00     39619\n",
      "           1       0.93      0.73      0.82       381\n",
      "\n",
      "    accuracy                           1.00     40000\n",
      "   macro avg       0.97      0.86      0.91     40000\n",
      "weighted avg       1.00      1.00      1.00     40000\n",
      "\n",
      "ROC-AUC score: 0.99598\n"
     ]
    },
    {
     "data": {
      "image/png": "[encoded data removed]",
      "text/plain": [
       "<Figure size 432x288 with 2 Axes>"
      ]
     },
     "metadata": {
      "needs_background": "light"
     },
     "output_type": "display_data"
    }
   ],
   "source": [
    "# year+month+week+day+hour+minute+second , click deltas, sites as cat_features  + number of digits + number of letters \n",
    "model_8 = basic_cboost(df_v8, target, cat_features = sites_cols)\n",
    "show_quality(model_8)"
   ]
  },
  {
   "cell_type": "markdown",
   "id": "80bcd403",
   "metadata": {},
   "source": [
    "## Модель 9 - Модель 4 + дельта кликов"
   ]
  },
  {
   "cell_type": "code",
   "execution_count": 27,
   "id": "2d78fb1d",
   "metadata": {
    "ExecuteTime": {
     "end_time": "2021-12-21T11:10:30.469129Z",
     "start_time": "2021-12-21T11:10:30.346774Z"
    }
   },
   "outputs": [],
   "source": [
    "df_v9 = df_v4.copy()\n",
    "df_v9 = df_v9.join(df_timedeltas.fillna(-1).drop('target', axis = 1), how = 'outer')"
   ]
  },
  {
   "cell_type": "code",
   "execution_count": 28,
   "id": "b9d88569",
   "metadata": {
    "ExecuteTime": {
     "end_time": "2021-12-21T11:16:48.019942Z",
     "start_time": "2021-12-21T11:10:30.472826Z"
    }
   },
   "outputs": [
    {
     "name": "stdout",
     "output_type": "stream",
     "text": [
      "              precision    recall  f1-score   support\n",
      "\n",
      "           0       1.00      1.00      1.00     39619\n",
      "           1       0.94      0.75      0.83       381\n",
      "\n",
      "    accuracy                           1.00     40000\n",
      "   macro avg       0.97      0.87      0.91     40000\n",
      "weighted avg       1.00      1.00      1.00     40000\n",
      "\n",
      "ROC-AUC score: 0.99608\n"
     ]
    },
    {
     "data": {
      "image/png": "[encoded data removed]",
      "text/plain": [
       "<Figure size 432x288 with 2 Axes>"
      ]
     },
     "metadata": {
      "needs_background": "light"
     },
     "output_type": "display_data"
    }
   ],
   "source": [
    "# year+month+week+day+hour+minute+second , click deltas, sites as cat_features\n",
    "model_9 = basic_cboost(df_v9, target, cat_features = sites_cols)\n",
    "show_quality(model_9)"
   ]
  },
  {
   "cell_type": "markdown",
   "id": "9c2b0b6c",
   "metadata": {},
   "source": [
    "## Модель 10 - Модель 4 + средняя дельта кликов"
   ]
  },
  {
   "cell_type": "code",
   "execution_count": 29,
   "id": "77b24fb7",
   "metadata": {
    "ExecuteTime": {
     "end_time": "2021-12-21T11:17:34.009506Z",
     "start_time": "2021-12-21T11:16:48.024929Z"
    }
   },
   "outputs": [],
   "source": [
    "mean_timedeltas = df_timedeltas.drop('target', axis = 1)\n",
    "mean_timedeltas = mean_timedeltas.apply(lambda x: x.sum()/x.notnull().sum(), axis = 1)"
   ]
  },
  {
   "cell_type": "code",
   "execution_count": 30,
   "id": "d0f0ec1d",
   "metadata": {
    "ExecuteTime": {
     "end_time": "2021-12-21T11:24:11.571298Z",
     "start_time": "2021-12-21T11:17:34.009506Z"
    }
   },
   "outputs": [
    {
     "name": "stdout",
     "output_type": "stream",
     "text": [
      "              precision    recall  f1-score   support\n",
      "\n",
      "           0       1.00      1.00      1.00     39619\n",
      "           1       0.93      0.75      0.83       381\n",
      "\n",
      "    accuracy                           1.00     40000\n",
      "   macro avg       0.96      0.88      0.91     40000\n",
      "weighted avg       1.00      1.00      1.00     40000\n",
      "\n",
      "ROC-AUC score: 0.99606\n"
     ]
    },
    {
     "data": {
      "image/png": "[encoded data removed]",
      "text/plain": [
       "<Figure size 432x288 with 2 Axes>"
      ]
     },
     "metadata": {
      "needs_background": "light"
     },
     "output_type": "display_data"
    }
   ],
   "source": [
    "# year+month+week+day+hour+minute+second + mean_click_deltas and sites as cat_features\n",
    "df_v10 = df_v4.copy()\n",
    "df_v10['mean_timedeltas'] = mean_timedeltas\n",
    "\n",
    "model_10 = basic_cboost(df_v10, target, cat_features = sites_cols)\n",
    "show_quality(model_10)"
   ]
  },
  {
   "cell_type": "markdown",
   "id": "074b867f",
   "metadata": {},
   "source": [
    "## Модель 11 - Попытка Tf-Idf (база - Модель 4 )"
   ]
  },
  {
   "cell_type": "code",
   "execution_count": 31,
   "id": "90cf2056",
   "metadata": {
    "ExecuteTime": {
     "end_time": "2021-12-21T11:24:11.695583Z",
     "start_time": "2021-12-21T11:24:11.574349Z"
    }
   },
   "outputs": [],
   "source": [
    "from sklearn.feature_extraction.text import CountVectorizer\n",
    "from sklearn.feature_extraction.text import  TfidfVectorizer"
   ]
  },
  {
   "cell_type": "code",
   "execution_count": 32,
   "id": "f2c820a1",
   "metadata": {
    "ExecuteTime": {
     "end_time": "2021-12-21T11:24:11.972436Z",
     "start_time": "2021-12-21T11:24:11.700569Z"
    }
   },
   "outputs": [],
   "source": [
    "import re\n",
    "sites_names_raw = [re.split(r\"[\\W']+\", v)  for k,v in sites.items() if v != -1]\n",
    "sites_names_raw = [item for sublist in sites_names_raw for item in sublist]"
   ]
  },
  {
   "cell_type": "code",
   "execution_count": 33,
   "id": "e91865b3",
   "metadata": {
    "ExecuteTime": {
     "end_time": "2021-12-21T11:24:18.341871Z",
     "start_time": "2021-12-21T11:24:11.975284Z"
    }
   },
   "outputs": [],
   "source": [
    "sites[-1] = -1\n",
    "df_train_sites = df_train[sites_cols].fillna(-1).astype(int)\n",
    "df_train_sites = df_train_sites.applymap(lambda x: sites[x])\n",
    "df_train_sites = df_train_sites.applymap(lambda x: re.sub(r\"[\\W']+\", ' ', x) if x != -1 else '')"
   ]
  },
  {
   "cell_type": "code",
   "execution_count": 34,
   "id": "e654bb1e",
   "metadata": {
    "ExecuteTime": {
     "end_time": "2021-12-21T11:24:19.391199Z",
     "start_time": "2021-12-21T11:24:18.343749Z"
    }
   },
   "outputs": [
    {
     "data": {
      "text/plain": [
       "TfidfVectorizer()"
      ]
     },
     "execution_count": 34,
     "metadata": {},
     "output_type": "execute_result"
    }
   ],
   "source": [
    "tf_idf = TfidfVectorizer()\n",
    "tf_idf.fit(sites_names_raw)"
   ]
  },
  {
   "cell_type": "code",
   "execution_count": 35,
   "id": "3fe3e735",
   "metadata": {
    "ExecuteTime": {
     "end_time": "2021-12-21T11:25:26.866376Z",
     "start_time": "2021-12-21T11:24:19.393193Z"
    }
   },
   "outputs": [],
   "source": [
    "df_v11 = df_v4.copy()\n",
    "\n",
    "for site in sites_cols:\n",
    "    df_tf_idf = tf_idf.transform(df_train_sites[site])\n",
    "    cols = [site + '_tf_' + str(i) for i in range(df_tf_idf.shape[1])]\n",
    "    df_v11 = df_v11.join(pd.DataFrame.sparse.from_spmatrix(df_tf_idf, columns = cols), how = 'outer')"
   ]
  },
  {
   "cell_type": "code",
   "execution_count": 36,
   "id": "199bbe74",
   "metadata": {
    "ExecuteTime": {
     "end_time": "2021-12-21T12:07:12.409577Z",
     "start_time": "2021-12-21T11:25:26.869379Z"
    }
   },
   "outputs": [
    {
     "name": "stdout",
     "output_type": "stream",
     "text": [
      "              precision    recall  f1-score   support\n",
      "\n",
      "           0       1.00      1.00      1.00     39619\n",
      "           1       0.89      0.50      0.64       381\n",
      "\n",
      "    accuracy                           0.99     40000\n",
      "   macro avg       0.94      0.75      0.82     40000\n",
      "weighted avg       0.99      0.99      0.99     40000\n",
      "\n",
      "ROC-AUC score: 0.97287\n"
     ]
    },
    {
     "data": {
      "image/png": "[encoded data removed]",
      "text/plain": [
       "<Figure size 432x288 with 2 Axes>"
      ]
     },
     "metadata": {
      "needs_background": "light"
     },
     "output_type": "display_data"
    }
   ],
   "source": [
    "#### year+month+week+day+hour+minute+second + sites as cat_features + tf-tdf features\n",
    "model_11 = basic_cboost(df_v11, target, cat_features = sites_cols, silent = True)\n",
    "show_quality(model_11)"
   ]
  },
  {
   "cell_type": "markdown",
   "id": "a6b0ba97",
   "metadata": {},
   "source": []
  },
  {
   "cell_type": "markdown",
   "id": "1cbd8933",
   "metadata": {},
   "source": [
    "Последняя попытка - подозрительность сайтов"
   ]
  },
  {
   "cell_type": "markdown",
   "id": "0828bd02",
   "metadata": {},
   "source": [
    "## Модель 12 - Модель 4 + подозрительность сайта"
   ]
  },
  {
   "cell_type": "code",
   "execution_count": 37,
   "id": "21846c32",
   "metadata": {
    "ExecuteTime": {
     "end_time": "2021-12-21T12:07:29.215922Z",
     "start_time": "2021-12-21T12:07:12.415502Z"
    }
   },
   "outputs": [],
   "source": [
    "df_train_train = model_4['X_train'].copy()\n",
    "df_train_test = model_4['X_test'].copy()\n",
    "df_train_train['target'] = model_4['y_train'].copy()\n",
    "df_train_test['target'] = model_4['y_test'].copy()"
   ]
  },
  {
   "cell_type": "code",
   "execution_count": 38,
   "id": "9b179cda",
   "metadata": {
    "ExecuteTime": {
     "end_time": "2021-12-21T12:07:29.277474Z",
     "start_time": "2021-12-21T12:07:29.219801Z"
    }
   },
   "outputs": [],
   "source": [
    "suspicious = df_train_train[[*sites_cols, 'target']].fillna(-1).astype(int)"
   ]
  },
  {
   "cell_type": "code",
   "execution_count": 39,
   "id": "722144fb",
   "metadata": {
    "ExecuteTime": {
     "end_time": "2021-12-21T12:07:29.601051Z",
     "start_time": "2021-12-21T12:07:29.280438Z"
    }
   },
   "outputs": [],
   "source": [
    "sites[-1] = -1\n",
    "suspiciousness_rate = {k:0 for k in sites.keys()}\n",
    "suspects = suspicious[suspicious['target'] == 1]\n",
    "for i in range(len(suspects)):\n",
    "    row = suspects.iloc[i]\n",
    "    for site in row:\n",
    "        if site != -1:\n",
    "            suspiciousness_rate[site] += 1"
   ]
  },
  {
   "cell_type": "code",
   "execution_count": 40,
   "id": "909aacaf",
   "metadata": {
    "ExecuteTime": {
     "end_time": "2021-12-21T12:07:34.189254Z",
     "start_time": "2021-12-21T12:07:29.605040Z"
    }
   },
   "outputs": [],
   "source": [
    "session_suspiciousness_train = df_train_train[sites_cols].applymap(lambda x: suspiciousness_rate[x]).apply(lambda x: sum(x), axis = 1)\n",
    "session_suspiciousness_test = df_train_test[sites_cols].applymap(lambda x: suspiciousness_rate[x]).apply(lambda x: sum(x), axis = 1)\n",
    "\n",
    "df_train_train['sus'] = session_suspiciousness_train\n",
    "df_train_test['sus'] = session_suspiciousness_test"
   ]
  },
  {
   "cell_type": "code",
   "execution_count": 41,
   "id": "7ae3e816",
   "metadata": {
    "ExecuteTime": {
     "end_time": "2021-12-21T12:15:41.339738Z",
     "start_time": "2021-12-21T12:07:34.191889Z"
    }
   },
   "outputs": [
    {
     "name": "stdout",
     "output_type": "stream",
     "text": [
      "              precision    recall  f1-score   support\n",
      "\n",
      "           0       1.00      1.00      1.00     39619\n",
      "           1       0.94      0.75      0.84       381\n",
      "\n",
      "    accuracy                           1.00     40000\n",
      "   macro avg       0.97      0.88      0.92     40000\n",
      "weighted avg       1.00      1.00      1.00     40000\n",
      "\n",
      "ROC-AUC score: 0.99451\n"
     ]
    },
    {
     "data": {
      "image/png": "[encoded data removed]",
      "text/plain": [
       "<Figure size 432x288 with 2 Axes>"
      ]
     },
     "metadata": {
      "needs_background": "light"
     },
     "output_type": "display_data"
    }
   ],
   "source": [
    "cboost_sus = CatBoostClassifier(cat_features = sites_cols, random_seed = 54, silent=True)\n",
    "cboost_sus.fit(df_train_train.loc[:, df_train_train.columns != 'target'], df_train_train['target'])\n",
    "res_sus = {}\n",
    "y_pred_sus = cboost_sus.predict(df_train_test.loc[:, df_train_test.columns != 'target'])\n",
    "y_proba_sus = cboost_sus.predict_proba(df_train_test.loc[:, df_train_test.columns != 'target'])[:, 1]\n",
    "res_sus['model'] = cboost_sus\n",
    "res_sus['y_pred_sus'] = y_pred_sus\n",
    "res_sus['probas'] = y_proba_sus\n",
    "res_sus['y_test'] = df_train_test['target']\n",
    "res_sus['X_test'] = df_train_test.loc[:, df_train_test.columns != 'target']\n",
    "\n",
    "\n",
    "print(classification_report(res_sus['y_test'], res_sus['y_pred_sus']))\n",
    "print(f\"ROC-AUC score: {round(roc_auc_score(res_sus['y_test'], res_sus['probas']), 5)}\")\n",
    "plot_confusion_matrix(res_sus['model'], res_sus['X_test'], res_sus['y_test']);"
   ]
  },
  {
   "cell_type": "markdown",
   "id": "653ebd8f",
   "metadata": {},
   "source": [
    "## Поиск по сетке"
   ]
  },
  {
   "cell_type": "markdown",
   "id": "fe962d78",
   "metadata": {},
   "source": [
    "тут все сложно, во время большого поиска погибло ядро, на GPU и CPU обучение дает разные результаты, тяжело понять, значим ли прирост от поиска или нет. На 100 деревьях сравнивать тоже не очень получается, на дефолтных n_estimators = 1000 результат может получиться хуже, хотя на 100 лучше (это неудивительно на самом деле)\n",
    "\n",
    "\n",
    "bootstrap_type Bayesian, Bernoulli, Poisson, MVS.\n",
    "feature_border_type \n"
   ]
  },
  {
   "cell_type": "code",
   "execution_count": 42,
   "id": "60e6f763",
   "metadata": {
    "ExecuteTime": {
     "end_time": "2021-12-21T12:15:50.079558Z",
     "start_time": "2021-12-21T12:15:41.342709Z"
    }
   },
   "outputs": [
    {
     "name": "stdout",
     "output_type": "stream",
     "text": [
      "              precision    recall  f1-score   support\n",
      "\n",
      "           0       1.00      1.00      1.00     39619\n",
      "           1       0.89      0.56      0.69       381\n",
      "\n",
      "    accuracy                           1.00     40000\n",
      "   macro avg       0.94      0.78      0.84     40000\n",
      "weighted avg       0.99      1.00      0.99     40000\n",
      "\n",
      "ROC-AUC score: 0.98883\n"
     ]
    },
    {
     "data": {
      "image/png": "[encoded data removed]",
      "text/plain": [
       "<Figure size 432x288 with 2 Axes>"
      ]
     },
     "metadata": {
      "needs_background": "light"
     },
     "output_type": "display_data"
    }
   ],
   "source": [
    "X_train_cv, X_test_cv, y_train_cv, y_test_cv = model_4['X_train'], model_4['X_test'], model_4['y_train'], model_4['y_test']\n",
    "basic_cboost = CatBoostClassifier(n_estimators = 100,\n",
    "                            cat_features = sites_cols,\n",
    "                            eval_metric = 'AUC',\n",
    "                            silent = True,\n",
    "                            random_state = 54,\n",
    "                            task_type=\"GPU\")\n",
    "\n",
    "basic_cboost.fit(X_train_cv, y_train_cv)\n",
    "y_pred_basic = basic_cboost.predict(X_test_cv)\n",
    "\n",
    "print(classification_report(y_test_cv, y_pred_basic))\n",
    "print(f\"ROC-AUC score: {round(roc_auc_score(y_test_cv, basic_cboost.predict_proba(X_test_cv)[:,1]), 5)}\")\n",
    "plot_confusion_matrix(basic_cboost, X_test_cv, y_test_cv);\n",
    "    "
   ]
  },
  {
   "cell_type": "code",
   "execution_count": 43,
   "id": "8ba9068b",
   "metadata": {
    "ExecuteTime": {
     "end_time": "2021-12-21T12:15:50.095162Z",
     "start_time": "2021-12-21T12:15:50.082522Z"
    }
   },
   "outputs": [],
   "source": [
    "cv_boost_1 = CatBoostClassifier(n_estimators = 100,\n",
    "                            cat_features = sites_cols,\n",
    "                            eval_metric = 'AUC',\n",
    "                            silent = True,\n",
    "                            random_state = 54,\n",
    "                            task_type=\"GPU\")"
   ]
  },
  {
   "cell_type": "code",
   "execution_count": 44,
   "id": "22cf96a4",
   "metadata": {
    "ExecuteTime": {
     "end_time": "2021-12-21T12:15:50.111119Z",
     "start_time": "2021-12-21T12:15:50.098154Z"
    }
   },
   "outputs": [],
   "source": [
    "param_grid_1 = {\n",
    "    'depth': np.arange(5,9),\n",
    "    'l2_leaf_reg' : [2, 3, 4]\n",
    "#     'max_leaves': np.linspace(10, 50, 5),\n",
    "#     'min_data_in_leaf' : np.arange(1, 11)\n",
    "}"
   ]
  },
  {
   "cell_type": "code",
   "execution_count": 45,
   "id": "80d077aa",
   "metadata": {
    "ExecuteTime": {
     "end_time": "2021-12-21T12:33:15.617321Z",
     "start_time": "2021-12-21T12:15:50.114111Z"
    },
    "scrolled": true
   },
   "outputs": [
    {
     "data": {
      "application/vnd.jupyter.widget-view+json": {
       "model_id": "d11ab817130c4835af1419b11b50a591",
       "version_major": 2,
       "version_minor": 0
      },
      "text/plain": [
       "MetricVisualizer(layout=Layout(align_self='stretch', height='500px'))"
      ]
     },
     "metadata": {},
     "output_type": "display_data"
    },
    {
     "name": "stdout",
     "output_type": "stream",
     "text": [
      "bestTest = 0.9252866805\n",
      "bestIteration = 99\n",
      "Metric AUC is not calculated on train by default. To calculate this metric on train, add hints=skip_train~false to metric parameters.\n",
      "0:\tloss: 0.9252867\tbest: 0.9252867 (0)\ttotal: 9.65s\tremaining: 1m 46s\n",
      "bestTest = 0.9209133983\n",
      "bestIteration = 99\n",
      "Metric AUC is not calculated on train by default. To calculate this metric on train, add hints=skip_train~false to metric parameters.\n",
      "1:\tloss: 0.9209134\tbest: 0.9252867 (0)\ttotal: 19.8s\tremaining: 1m 38s\n",
      "bestTest = 0.92808339\n",
      "bestIteration = 99\n",
      "Metric AUC is not calculated on train by default. To calculate this metric on train, add hints=skip_train~false to metric parameters.\n",
      "2:\tloss: 0.9280834\tbest: 0.9280834 (2)\ttotal: 31s\tremaining: 1m 33s\n",
      "bestTest = 0.9324091673\n",
      "bestIteration = 99\n",
      "Metric AUC is not calculated on train by default. To calculate this metric on train, add hints=skip_train~false to metric parameters.\n",
      "3:\tloss: 0.9324092\tbest: 0.9324092 (3)\ttotal: 45.3s\tremaining: 1m 30s\n",
      "bestTest = 0.926617682\n",
      "bestIteration = 99\n",
      "Metric AUC is not calculated on train by default. To calculate this metric on train, add hints=skip_train~false to metric parameters.\n",
      "4:\tloss: 0.9266177\tbest: 0.9324092 (3)\ttotal: 59s\tremaining: 1m 22s\n",
      "bestTest = 0.9270733297\n",
      "bestIteration = 99\n",
      "Metric AUC is not calculated on train by default. To calculate this metric on train, add hints=skip_train~false to metric parameters.\n",
      "5:\tloss: 0.9270733\tbest: 0.9324092 (3)\ttotal: 1m 13s\tremaining: 1m 13s\n",
      "bestTest = 0.9311871529\n",
      "bestIteration = 97\n",
      "Metric AUC is not calculated on train by default. To calculate this metric on train, add hints=skip_train~false to metric parameters.\n",
      "6:\tloss: 0.9311872\tbest: 0.9324092 (3)\ttotal: 1m 29s\tremaining: 1m 4s\n",
      "bestTest = 0.9240899682\n",
      "bestIteration = 97\n",
      "Metric AUC is not calculated on train by default. To calculate this metric on train, add hints=skip_train~false to metric parameters.\n",
      "7:\tloss: 0.9240900\tbest: 0.9324092 (3)\ttotal: 1m 53s\tremaining: 56.6s\n",
      "bestTest = 0.9165292382\n",
      "bestIteration = 79\n",
      "Metric AUC is not calculated on train by default. To calculate this metric on train, add hints=skip_train~false to metric parameters.\n",
      "8:\tloss: 0.9165292\tbest: 0.9324092 (3)\ttotal: 2m 11s\tremaining: 43.9s\n",
      "bestTest = 0.933082819\n",
      "bestIteration = 97\n",
      "Metric AUC is not calculated on train by default. To calculate this metric on train, add hints=skip_train~false to metric parameters.\n",
      "9:\tloss: 0.9330828\tbest: 0.9330828 (9)\ttotal: 2m 38s\tremaining: 31.8s\n",
      "bestTest = 0.9271802604\n",
      "bestIteration = 98\n",
      "Metric AUC is not calculated on train by default. To calculate this metric on train, add hints=skip_train~false to metric parameters.\n",
      "10:\tloss: 0.9271803\tbest: 0.9330828 (9)\ttotal: 3m 8s\tremaining: 17.1s\n",
      "bestTest = 0.9185333848\n",
      "bestIteration = 91\n",
      "Metric AUC is not calculated on train by default. To calculate this metric on train, add hints=skip_train~false to metric parameters.\n",
      "11:\tloss: 0.9185334\tbest: 0.9330828 (9)\ttotal: 3m 46s\tremaining: 0us\n",
      "Estimating final quality...\n"
     ]
    }
   ],
   "source": [
    "cv1 = cv_boost_1.grid_search(param_grid_1,\n",
    "                     X_train_cv,\n",
    "                     y = y_train_cv,\n",
    "                     cv = 3,\n",
    "                     partition_random_seed=54,\n",
    "                    plot=True)"
   ]
  },
  {
   "cell_type": "code",
   "execution_count": 46,
   "id": "de366b91",
   "metadata": {
    "ExecuteTime": {
     "end_time": "2021-12-21T12:41:10.046238Z",
     "start_time": "2021-12-21T12:33:15.617321Z"
    }
   },
   "outputs": [
    {
     "name": "stdout",
     "output_type": "stream",
     "text": [
      "              precision    recall  f1-score   support\n",
      "\n",
      "           0       1.00      1.00      1.00     39619\n",
      "           1       0.94      0.75      0.84       381\n",
      "\n",
      "    accuracy                           1.00     40000\n",
      "   macro avg       0.97      0.88      0.92     40000\n",
      "weighted avg       1.00      1.00      1.00     40000\n",
      "\n",
      "ROC-AUC score: 0.99673\n"
     ]
    },
    {
     "data": {
      "image/png": "[encoded data removed]",
      "text/plain": [
       "<Figure size 432x288 with 2 Axes>"
      ]
     },
     "metadata": {
      "needs_background": "light"
     },
     "output_type": "display_data"
    }
   ],
   "source": [
    "cboost_cv_1 = CatBoostClassifier(n_estimators = 1000,\n",
    "                            cat_features = sites_cols,\n",
    "                            eval_metric = 'AUC',\n",
    "                            silent = True,\n",
    "                            learning_rate = 0.17,\n",
    "                            random_state = 54,\n",
    "                            task_type=\"CPU\")\n",
    "\n",
    "cboost_cv_1.fit(X_train_cv, y_train_cv)\n",
    "y_pred_cv_1 = cboost_cv_1.predict(X_test_cv)\n",
    "\n",
    "print(classification_report(y_test_cv, y_pred_cv_1))\n",
    "print(f\"ROC-AUC score: {round(roc_auc_score(y_test_cv, cboost_cv_1.predict_proba(X_test_cv)[:,1]), 5)}\")\n",
    "plot_confusion_matrix(cboost_cv_1, X_test_cv, y_test_cv);"
   ]
  },
  {
   "cell_type": "markdown",
   "id": "9ecfb544",
   "metadata": {
    "ExecuteTime": {
     "end_time": "2021-12-21T09:09:56.207068Z",
     "start_time": "2021-12-21T09:09:56.135260Z"
    }
   },
   "source": [
    "## Финальная модель"
   ]
  },
  {
   "cell_type": "code",
   "execution_count": 128,
   "id": "a3f6377a",
   "metadata": {
    "ExecuteTime": {
     "end_time": "2021-12-21T20:10:20.098892Z",
     "start_time": "2021-12-21T20:01:46.524126Z"
    }
   },
   "outputs": [
    {
     "data": {
      "text/plain": [
       "<catboost.core.CatBoostClassifier at 0x13d803ac4c0>"
      ]
     },
     "execution_count": 128,
     "metadata": {},
     "output_type": "execute_result"
    }
   ],
   "source": [
    "df_final = df_v4\n",
    "final_model = CatBoostClassifier(n_estimators = 1000,\n",
    "                            cat_features = sites_cols,\n",
    "                            eval_metric = 'AUC',\n",
    "                            silent = True,\n",
    "                            learning_rate = 0.17,\n",
    "                            random_state = 54,\n",
    "                            task_type=\"CPU\")\n",
    "final_model.fit(df_final, target)"
   ]
  },
  {
   "cell_type": "code",
   "execution_count": 129,
   "id": "5e7a92b7",
   "metadata": {
    "ExecuteTime": {
     "end_time": "2021-12-21T20:10:24.936407Z",
     "start_time": "2021-12-21T20:10:24.528332Z"
    }
   },
   "outputs": [],
   "source": [
    "df_sub_time = df_test[time_cols]\n",
    "for i in range(1, 11):\n",
    "    col = 'time' + str(i)\n",
    "    df_sub_time[col] = pd.to_datetime(df_sub_time[col], format = '%Y/%m/%d', infer_datetime_format=True)"
   ]
  },
  {
   "cell_type": "code",
   "execution_count": 130,
   "id": "70006016",
   "metadata": {
    "ExecuteTime": {
     "end_time": "2021-12-21T20:10:46.932856Z",
     "start_time": "2021-12-21T20:10:29.313591Z"
    }
   },
   "outputs": [],
   "source": [
    "df_sub = df_sub_time.copy()\n",
    "\n",
    "for i, col in enumerate(time_cols):\n",
    "    df_sub['year_num' + str(i)] = df_sub[col].apply(lambda x: x.year)\n",
    "    df_sub['month_num' + str(i)] = df_sub[col].apply(lambda x: x.month)\n",
    "    df_sub['week_num' + str(i)] = df_sub[col].apply(lambda x: x.week)\n",
    "    # день недели\n",
    "    df_sub['day_week_num' + str(i)] = df_sub[col].apply(lambda x: x.dayofweek)\n",
    "    # час\n",
    "    df_sub['hour_num' + str(i)] = df_sub[col].apply(lambda x: x.hour)\n",
    "    # минута\n",
    "    df_sub['minute_num' + str(i)] = df_sub[col].apply(lambda x: x.minute)\n",
    "    # секунда\n",
    "    df_sub['second_num' + str(i)] = df_sub[col].apply(lambda x: x.second)\n",
    "\n",
    "df_sub.drop(columns=time_cols, inplace=True)\n",
    "\n",
    "df_sub = df_sub.join(df_test[sites_cols], how = 'outer')\n",
    "df_sub.fillna(-1, inplace = True)\n",
    "df_sub[sites_cols] = df_sub[sites_cols].astype(int)"
   ]
  },
  {
   "cell_type": "code",
   "execution_count": 131,
   "id": "e2e06694",
   "metadata": {
    "ExecuteTime": {
     "end_time": "2021-12-21T20:10:51.154839Z",
     "start_time": "2021-12-21T20:10:50.537997Z"
    }
   },
   "outputs": [],
   "source": [
    "sub_probas = final_model.predict_proba(df_sub)[:, 1]\n",
    "sub_res = pd.DataFrame({'id': example[example.columns[0]],\n",
    "                        'target': sub_probas})"
   ]
  },
  {
   "cell_type": "code",
   "execution_count": 134,
   "id": "19865460",
   "metadata": {
    "ExecuteTime": {
     "end_time": "2021-12-21T20:12:42.316026Z",
     "start_time": "2021-12-21T20:12:42.155955Z"
    }
   },
   "outputs": [],
   "source": [
    "sub_res.to_csv('Удинский_КТ2.csv', index = False)"
   ]
  }
 ],
 "metadata": {
  "kernelspec": {
   "display_name": "Python 3",
   "language": "python",
   "name": "python3"
  },
  "language_info": {
   "codemirror_mode": {
    "name": "ipython",
    "version": 3
   },
   "file_extension": ".py",
   "mimetype": "text/x-python",
   "name": "python",
   "nbconvert_exporter": "python",
   "pygments_lexer": "ipython3",
   "version": "3.8.11"
  },
  "varInspector": {
   "cols": {
    "lenName": 16,
    "lenType": 16,
    "lenVar": 40
   },
   "kernels_config": {
    "python": {
     "delete_cmd_postfix": "",
     "delete_cmd_prefix": "del ",
     "library": "var_list.py",
     "varRefreshCmd": "print(var_dic_list())"
    },
    "r": {
     "delete_cmd_postfix": ") ",
     "delete_cmd_prefix": "rm(",
     "library": "var_list.r",
     "varRefreshCmd": "cat(var_dic_list()) "
    }
   },
   "types_to_exclude": [
    "module",
    "function",
    "builtin_function_or_method",
    "instance",
    "_Feature"
   ],
   "window_display": true
  }
 },
 "nbformat": 4,
 "nbformat_minor": 5
}
